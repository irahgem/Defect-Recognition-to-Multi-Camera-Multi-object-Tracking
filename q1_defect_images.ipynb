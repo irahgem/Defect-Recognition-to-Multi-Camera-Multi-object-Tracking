{
 "cells": [
  {
   "cell_type": "code",
   "execution_count": 1,
   "metadata": {},
   "outputs": [],
   "source": [
    "import tensorflow as tf \n",
    "from tensorflow.keras import  models , layers \n",
    "import matplotlib.pyplot as plt"
   ]
  },
  {
   "cell_type": "code",
   "execution_count": 2,
   "metadata": {},
   "outputs": [],
   "source": [
    "IMAGE_SIZE = 256\n",
    "BATCH_SIZE = 32\n",
    "CHANNELS = 3\n",
    "EPOCHS = 10"
   ]
  },
  {
   "cell_type": "code",
   "execution_count": 3,
   "metadata": {},
   "outputs": [
    {
     "name": "stdout",
     "output_type": "stream",
     "text": [
      "Found 5 files belonging to 3 classes.\n"
     ]
    },
    {
     "name": "stderr",
     "output_type": "stream",
     "text": [
      "2022-09-02 18:40:32.371914: E tensorflow/stream_executor/cuda/cuda_driver.cc:271] failed call to cuInit: CUDA_ERROR_UNKNOWN: unknown error\n"
     ]
    }
   ],
   "source": [
    "dataset = tf.keras.preprocessing.image_dataset_from_directory( \n",
    "    \"./defect_data/\" , \n",
    "    shuffle = True , \n",
    "    batch_size = BATCH_SIZE ,\n",
    "    image_size = (IMAGE_SIZE , IMAGE_SIZE)\n",
    ")"
   ]
  },
  {
   "cell_type": "code",
   "execution_count": 4,
   "metadata": {},
   "outputs": [
    {
     "data": {
      "text/plain": [
       "['Cuts', 'Flashes', 'Good']"
      ]
     },
     "execution_count": 4,
     "metadata": {},
     "output_type": "execute_result"
    }
   ],
   "source": [
    "class_names = dataset.class_names \n",
    "class_names"
   ]
  },
  {
   "cell_type": "code",
   "execution_count": 5,
   "metadata": {},
   "outputs": [
    {
     "data": {
      "text/plain": [
       "1"
      ]
     },
     "execution_count": 5,
     "metadata": {},
     "output_type": "execute_result"
    }
   ],
   "source": [
    "len(dataset)"
   ]
  },
  {
   "cell_type": "code",
   "execution_count": 8,
   "metadata": {},
   "outputs": [
    {
     "data": {
      "image/png": "[encoded data removed]",
      "text/plain": [
       "<Figure size 720x720 with 5 Axes>"
      ]
     },
     "metadata": {
      "needs_background": "light"
     },
     "output_type": "display_data"
    }
   ],
   "source": [
    "plt.figure(figsize = (10 , 10))\n",
    "for image_batch , label_batch in dataset.take(1):\n",
    "    for i in range(5):\n",
    "        plt.subplot(3 , 4 , i + 1)\n",
    "        plt.imshow(image_batch[i].numpy().astype(\"uint8\")) \n",
    "        # print(image_batch.shape) \n",
    "        # print(label_batch.numpy())\n",
    "        plt.title(class_names[label_batch[i]])\n",
    "        plt.axis('off')"
   ]
  },
  {
   "cell_type": "code",
   "execution_count": 9,
   "metadata": {},
   "outputs": [
    {
     "data": {
      "text/plain": [
       "0.8"
      ]
     },
     "execution_count": 9,
     "metadata": {},
     "output_type": "execute_result"
    }
   ],
   "source": [
    "train_size = 0.8\n",
    "len(dataset)*train_size"
   ]
  },
  {
   "cell_type": "code",
   "execution_count": 18,
   "metadata": {},
   "outputs": [
    {
     "data": {
      "text/plain": [
       "1"
      ]
     },
     "execution_count": 18,
     "metadata": {},
     "output_type": "execute_result"
    }
   ],
   "source": [
    "train_ds = dataset.take(8)   # first 54 images\n",
    "len(train_ds)"
   ]
  },
  {
   "cell_type": "code",
   "execution_count": 19,
   "metadata": {},
   "outputs": [
    {
     "data": {
      "text/plain": [
       "0"
      ]
     },
     "execution_count": 19,
     "metadata": {},
     "output_type": "execute_result"
    }
   ],
   "source": [
    "test_ds = dataset.skip(8) # skip 54 images\n",
    "len(test_ds)"
   ]
  },
  {
   "cell_type": "code",
   "execution_count": 20,
   "metadata": {},
   "outputs": [
    {
     "data": {
      "text/plain": [
       "0.1"
      ]
     },
     "execution_count": 20,
     "metadata": {},
     "output_type": "execute_result"
    }
   ],
   "source": [
    "val_size = 0.1 \n",
    "len(dataset)*val_size"
   ]
  },
  {
   "cell_type": "code",
   "execution_count": 21,
   "metadata": {},
   "outputs": [
    {
     "data": {
      "text/plain": [
       "0"
      ]
     },
     "execution_count": 21,
     "metadata": {},
     "output_type": "execute_result"
    }
   ],
   "source": [
    "val_ds = test_ds.take(1) \n",
    "len(val_ds)"
   ]
  },
  {
   "cell_type": "code",
   "execution_count": 22,
   "metadata": {},
   "outputs": [
    {
     "data": {
      "text/plain": [
       "0"
      ]
     },
     "execution_count": 22,
     "metadata": {},
     "output_type": "execute_result"
    }
   ],
   "source": [
    "test_ds = test_ds.skip(1) \n",
    "len(test_ds)"
   ]
  },
  {
   "cell_type": "code",
   "execution_count": 23,
   "metadata": {},
   "outputs": [],
   "source": [
    "def get_dataset_partitions_tf(ds , train_split=0.8 , val_split=0.1 , test_split=0.1 , shuffle =True , shuffle_size=100000 ): \n",
    "    ds_size = len(ds) \n",
    "    if shuffle: \n",
    "        ds = ds.shuffle(shuffle_size , seed=12)\n",
    "\n",
    "    train_size = int(ds_size*train_split)\n",
    "    val_size = int(ds_size*val_split)\n",
    "\n",
    "    train_ds = ds.take(train_size) \n",
    "    \n",
    "    val_ds = ds.skip(train_size).take(val_size)\n",
    "    test_ds = ds.skip(train_size).skip(val_size)\n",
    "    return train_ds , val_ds , test_ds"
   ]
  },
  {
   "cell_type": "code",
   "execution_count": null,
   "metadata": {},
   "outputs": [],
   "source": [
    "train_ds , val_ds , test_ds =get_dataset_partitions_tf(dataset)"
   ]
  },
  {
   "cell_type": "code",
   "execution_count": 24,
   "metadata": {},
   "outputs": [
    {
     "data": {
      "text/plain": [
       "(1, 0, 0)"
      ]
     },
     "execution_count": 24,
     "metadata": {},
     "output_type": "execute_result"
    }
   ],
   "source": [
    "len(train_ds) , len(val_ds) , len(test_ds)"
   ]
  },
  {
   "cell_type": "code",
   "execution_count": 25,
   "metadata": {},
   "outputs": [],
   "source": [
    "train_ds = train_ds.cache().shuffle(1000).prefetch(tf.data.experimental.AUTOTUNE) \n",
    "val_ds = val_ds.cache().shuffle(1000).prefetch(tf.data.experimental.AUTOTUNE) \n",
    "test_ds = test_ds.cache().shuffle(1000).prefetch(tf.data.experimental.AUTOTUNE)"
   ]
  },
  {
   "cell_type": "code",
   "execution_count": 26,
   "metadata": {},
   "outputs": [],
   "source": [
    "resize_and_rescale = tf.keras.Sequential([ \n",
    "    layers.experimental.preprocessing.Rescaling(IMAGE_SIZE , IMAGE_SIZE) ,\n",
    "    layers.experimental.preprocessing.Rescaling(1./255) ,\n",
    "])"
   ]
  },
  {
   "cell_type": "code",
   "execution_count": 27,
   "metadata": {},
   "outputs": [],
   "source": [
    "data_augmentation = tf.keras.Sequential([ \n",
    "    layers.experimental.preprocessing.RandomFlip(\"horizontal_and_vertical\") ,\n",
    "    layers.experimental.preprocessing.RandomRotation(0.2)\n",
    "])"
   ]
  },
  {
   "cell_type": "code",
   "execution_count": 28,
   "metadata": {},
   "outputs": [],
   "source": [
    "input_shape = (BATCH_SIZE, IMAGE_SIZE, IMAGE_SIZE, CHANNELS)\n",
    "n_classes = 3\n",
    "\n",
    "model = models.Sequential([\n",
    "    resize_and_rescale,\n",
    "    layers.Conv2D(32, kernel_size = (3,3), activation='relu', input_shape=input_shape),\n",
    "    layers.MaxPooling2D((2, 2)),\n",
    "    layers.Conv2D(64,  kernel_size = (3,3), activation='relu'),\n",
    "    layers.MaxPooling2D((2, 2)),\n",
    "    layers.Conv2D(64,  kernel_size = (3,3), activation='relu'),\n",
    "    layers.MaxPooling2D((2, 2)),\n",
    "    layers.Conv2D(64, (3, 3), activation='relu'),\n",
    "    layers.MaxPooling2D((2, 2)),\n",
    "    layers.Conv2D(64, (3, 3), activation='relu'),\n",
    "    layers.MaxPooling2D((2, 2)),\n",
    "    layers.Conv2D(64, (3, 3), activation='relu'),\n",
    "    layers.MaxPooling2D((2, 2)),\n",
    "    layers.Flatten(),\n",
    "    layers.Dense(64, activation='relu'),\n",
    "    layers.Dense(n_classes, activation='softmax'),\n",
    "])"
   ]
  },
  {
   "cell_type": "code",
   "execution_count": 29,
   "metadata": {},
   "outputs": [],
   "source": [
    "model.build(input_shape = input_shape)"
   ]
  },
  {
   "cell_type": "code",
   "execution_count": 30,
   "metadata": {},
   "outputs": [
    {
     "name": "stdout",
     "output_type": "stream",
     "text": [
      "Model: \"sequential_2\"\n",
      "_________________________________________________________________\n",
      " Layer (type)                Output Shape              Param #   \n",
      "=================================================================\n",
      " sequential (Sequential)     (32, 256, 256, 3)         0         \n",
      "                                                                 \n",
      " conv2d (Conv2D)             (32, 254, 254, 32)        896       \n",
      "                                                                 \n",
      " max_pooling2d (MaxPooling2D  (32, 127, 127, 32)       0         \n",
      " )                                                               \n",
      "                                                                 \n",
      " conv2d_1 (Conv2D)           (32, 125, 125, 64)        18496     \n",
      "                                                                 \n",
      " max_pooling2d_1 (MaxPooling  (32, 62, 62, 64)         0         \n",
      " 2D)                                                             \n",
      "                                                                 \n",
      " conv2d_2 (Conv2D)           (32, 60, 60, 64)          36928     \n",
      "                                                                 \n",
      " max_pooling2d_2 (MaxPooling  (32, 30, 30, 64)         0         \n",
      " 2D)                                                             \n",
      "                                                                 \n",
      " conv2d_3 (Conv2D)           (32, 28, 28, 64)          36928     \n",
      "                                                                 \n",
      " max_pooling2d_3 (MaxPooling  (32, 14, 14, 64)         0         \n",
      " 2D)                                                             \n",
      "                                                                 \n",
      " conv2d_4 (Conv2D)           (32, 12, 12, 64)          36928     \n",
      "                                                                 \n",
      " max_pooling2d_4 (MaxPooling  (32, 6, 6, 64)           0         \n",
      " 2D)                                                             \n",
      "                                                                 \n",
      " conv2d_5 (Conv2D)           (32, 4, 4, 64)            36928     \n",
      "                                                                 \n",
      " max_pooling2d_5 (MaxPooling  (32, 2, 2, 64)           0         \n",
      " 2D)                                                             \n",
      "                                                                 \n",
      " flatten (Flatten)           (32, 256)                 0         \n",
      "                                                                 \n",
      " dense (Dense)               (32, 64)                  16448     \n",
      "                                                                 \n",
      " dense_1 (Dense)             (32, 3)                   195       \n",
      "                                                                 \n",
      "=================================================================\n",
      "Total params: 183,747\n",
      "Trainable params: 183,747\n",
      "Non-trainable params: 0\n",
      "_________________________________________________________________\n"
     ]
    }
   ],
   "source": [
    "model.summary()"
   ]
  },
  {
   "cell_type": "code",
   "execution_count": 31,
   "metadata": {},
   "outputs": [],
   "source": [
    "model.compile( \n",
    "    optimizer=\"adam\", \n",
    "    loss = tf.keras.losses.SparseCategoricalCrossentropy(from_logits=False), \n",
    "    metrics = [\"accuracy\"] \n",
    ")"
   ]
  },
  {
   "cell_type": "code",
   "execution_count": 35,
   "metadata": {},
   "outputs": [
    {
     "name": "stdout",
     "output_type": "stream",
     "text": [
      "Epoch 1/10\n",
      "1/1 [==============================] - 0s 165ms/step - loss: 1.3391 - accuracy: 0.4000\n",
      "Epoch 2/10\n",
      "1/1 [==============================] - 0s 155ms/step - loss: 1.5030 - accuracy: 0.4000\n",
      "Epoch 3/10\n",
      "1/1 [==============================] - 0s 157ms/step - loss: 1.2037 - accuracy: 0.4000\n",
      "Epoch 4/10\n",
      "1/1 [==============================] - 0s 157ms/step - loss: 1.1451 - accuracy: 0.4000\n",
      "Epoch 5/10\n",
      "1/1 [==============================] - 0s 165ms/step - loss: 1.2017 - accuracy: 0.4000\n",
      "Epoch 6/10\n",
      "1/1 [==============================] - 0s 179ms/step - loss: 1.0703 - accuracy: 0.6000\n",
      "Epoch 7/10\n",
      "1/1 [==============================] - 0s 165ms/step - loss: 1.1138 - accuracy: 0.4000\n",
      "Epoch 8/10\n",
      "1/1 [==============================] - 0s 164ms/step - loss: 1.0622 - accuracy: 0.4000\n",
      "Epoch 9/10\n",
      "1/1 [==============================] - 0s 165ms/step - loss: 0.9968 - accuracy: 0.4000\n",
      "Epoch 10/10\n",
      "1/1 [==============================] - 0s 194ms/step - loss: 1.0116 - accuracy: 0.4000\n"
     ]
    }
   ],
   "source": [
    "history = model.fit( \n",
    "    train_ds ,\n",
    "    validation_data = val_ds , \n",
    "    epochs = EPOCHS , \n",
    "    batch_size = BATCH_SIZE ,\n",
    "    verbose = 1, \n",
    ")"
   ]
  },
  {
   "cell_type": "code",
   "execution_count": 37,
   "metadata": {},
   "outputs": [
    {
     "data": {
      "text/plain": [
       "{'verbose': 1, 'epochs': 10, 'steps': 1}"
      ]
     },
     "execution_count": 37,
     "metadata": {},
     "output_type": "execute_result"
    }
   ],
   "source": [
    "history.params"
   ]
  },
  {
   "cell_type": "code",
   "execution_count": 38,
   "metadata": {},
   "outputs": [],
   "source": [
    "# save model \n",
    "model.save(\"machine_model.h5\")"
   ]
  },
  {
   "cell_type": "code",
   "execution_count": 39,
   "metadata": {},
   "outputs": [
    {
     "data": {
      "text/plain": [
       "dict_keys(['loss', 'accuracy'])"
      ]
     },
     "execution_count": 39,
     "metadata": {},
     "output_type": "execute_result"
    }
   ],
   "source": [
    "history.history.keys()"
   ]
  },
  {
   "cell_type": "code",
   "execution_count": 40,
   "metadata": {},
   "outputs": [
    {
     "data": {
      "text/plain": [
       "dict_keys(['loss', 'accuracy'])"
      ]
     },
     "execution_count": 40,
     "metadata": {},
     "output_type": "execute_result"
    }
   ],
   "source": [
    "history.history.keys()"
   ]
  },
  {
   "cell_type": "code",
   "execution_count": 41,
   "metadata": {},
   "outputs": [
    {
     "data": {
      "text/plain": [
       "[1.3390583992004395,\n",
       " 1.5029882192611694,\n",
       " 1.2036750316619873,\n",
       " 1.1450529098510742,\n",
       " 1.2017498016357422]"
      ]
     },
     "execution_count": 41,
     "metadata": {},
     "output_type": "execute_result"
    }
   ],
   "source": [
    "history.history['loss'][:5] # show loss for first 5 epochs"
   ]
  },
  {
   "cell_type": "code",
   "execution_count": 43,
   "metadata": {},
   "outputs": [],
   "source": [
    "acc = history.history['accuracy']\n",
    "# val_acc = history.history['val_accuracy']\n",
    "\n",
    "loss = history.history['loss']\n",
    "# val_loss = history.history['val_loss']"
   ]
  },
  {
   "cell_type": "code",
   "execution_count": 45,
   "metadata": {},
   "outputs": [
    {
     "data": {
      "image/png": "[encoded data removed]",
      "text/plain": [
       "<Figure size 720x720 with 2 Axes>"
      ]
     },
     "metadata": {
      "needs_background": "light"
     },
     "output_type": "display_data"
    }
   ],
   "source": [
    "plt.figure(figsize=(10, 10))\n",
    "plt.subplot(1, 2, 1)\n",
    "plt.plot(range(EPOCHS), acc, label='Training Accuracy')\n",
    "# plt.plot(range(EPOCHS), val_acc, label='Validation Accuracy')\n",
    "plt.legend(loc='lower right')\n",
    "plt.title('Training and Validation Accuracy')\n",
    "\n",
    "plt.subplot(1, 2, 2)\n",
    "plt.plot(range(EPOCHS), loss, label='Training Loss')\n",
    "# plt.plot(range(EPOCHS), val_loss, label='Validation Loss')\n",
    "plt.legend(loc='upper right')\n",
    "plt.title('Training and Validation Loss')\n",
    "plt.show()"
   ]
  },
  {
   "cell_type": "code",
   "execution_count": 46,
   "metadata": {},
   "outputs": [],
   "source": [
    "import numpy as np \n",
    "for images_batch , labels_batch in test_ds.take(1): \n",
    "    first_image = images_batch[0].numpy().astype('uint8') \n",
    "    first_label = labels_batch[0].numpy() \n",
    "\n",
    "    print('first image to predict') \n",
    "    plt.imshow(first_image) \n",
    "    print('actual label : ' , class_names[first_label]) \n",
    "\n",
    "    batch_prediction = model.predict(images_batch) \n",
    "    print('predicted label : ' , class_names[np.argmax(batch_prediction[0])])"
   ]
  },
  {
   "cell_type": "code",
   "execution_count": 47,
   "metadata": {},
   "outputs": [],
   "source": [
    "def predict(model, img):\n",
    "    img_array = tf.keras.preprocessing.image.img_to_array(images[i].numpy())\n",
    "    img_array = tf.expand_dims(img_array, 0)\n",
    "\n",
    "    predictions = model.predict(img_array)\n",
    "\n",
    "    predicted_class = class_names[np.argmax(predictions[0])]\n",
    "    confidence = round(100 * (np.max(predictions[0])), 2)\n",
    "    return predicted_class, confidence"
   ]
  },
  {
   "cell_type": "code",
   "execution_count": 48,
   "metadata": {},
   "outputs": [
    {
     "data": {
      "text/plain": [
       "<Figure size 1080x1080 with 0 Axes>"
      ]
     },
     "metadata": {},
     "output_type": "display_data"
    }
   ],
   "source": [
    "plt.figure(figsize=(15, 15))\n",
    "for images, labels in test_ds.take(1):\n",
    "    for i in range(9):\n",
    "        ax = plt.subplot(3, 3, i + 1)\n",
    "        plt.imshow(images[i].numpy().astype(\"uint8\"))\n",
    "        \n",
    "        predicted_class, confidence = predict(model, images[i].numpy())\n",
    "        actual_class = class_names[labels[i]] \n",
    "        \n",
    "        plt.title(f\"Actual: {actual_class},\\n Predicted: {predicted_class}.\\n Confidence: {confidence}%\")\n",
    "        \n",
    "        plt.axis(\"off\")\n"
   ]
  },
  {
   "cell_type": "markdown",
   "metadata": {},
   "source": [
    "## Canny Edge Approach"
   ]
  },
  {
   "cell_type": "code",
   "execution_count": 1,
   "metadata": {},
   "outputs": [
    {
     "name": "stdout",
     "output_type": "stream",
     "text": [
      "======================================\n",
      "=         Available Images           =\n",
      "======================================\n",
      "-> defect1.png\t -> defect2.png\t -> defect3.png\t -> defect4.png\t \n",
      "\n",
      "-> good.png\t \n",
      "======================================\n",
      "Number of Contours found = 0\n"
     ]
    }
   ],
   "source": [
    "import os\n",
    "import cv2\n",
    "import numpy as np\n",
    "\n",
    "\n",
    "################################\n",
    "# --- Variables ---\n",
    "################################\n",
    "IMAGE_SIZE = (500, 500)\n",
    "\n",
    "# -- Threshold Details --\n",
    "# *THRESHOLD_VALUE need to INCREASED if no contour detected,\n",
    "# *if there're INACCURATE CONTOUR NUMBERS the value need to DECREASED\n",
    "THRESHOLD_VALUE = 110\n",
    "MAX_VALUE = 255\n",
    "\n",
    "# -- Invert Threshold Details --\n",
    "INV_THRESHOLD_VALUE = 50\n",
    "INV_MAX_VALUE = 255\n",
    "\n",
    "# -- Canny Details --\n",
    "THRESHOLD1 = 100\n",
    "THRESHOLD2 = 70\n",
    "\n",
    "# --contour properties--\n",
    "CON_COLOR = (0, 0, 255)\n",
    "CON_THICKNESS = 1\n",
    "\n",
    "# -- Image Stack properties--\n",
    "WHITE = (255, 255, 255)\n",
    "BLACK = (0, 0, 0)\n",
    "GREEN = (0, 255, 0)\n",
    "RED = (0, 0, 255)\n",
    "STACK_IMG_SIZE = (200, 200)\n",
    "\n",
    "################################\n",
    "\n",
    "while True:\n",
    "    files = os.listdir('C:/Users/Harish/Videos/Images/')\n",
    "    print(\"======================================\")\n",
    "    print(\"=         Available Images           =\")\n",
    "    print(\"======================================\")\n",
    "    for i in files:\n",
    "        print('-> {}\\t '.format(i), end='')\n",
    "        if files.index(i) % 3 == 0 and files.index(i) != 0:\n",
    "            print('\\n')\n",
    "    print(\"\\n======================================\")\n",
    "\n",
    "    # need to select image name with the extension (ex: img1.jpeg)\n",
    "    file = input(\"Select a file from the directory(q- quit): \").strip()\n",
    "\n",
    "    # quit program\n",
    "    if file == 'q' or file == 'Q':\n",
    "        break\n",
    "\n",
    "    PATH = 'C:/Users/Harish/Videos/Images/' + file\n",
    "    # Image Path\n",
    "    imageOri = cv2.imread(PATH)\n",
    "\n",
    "    try:\n",
    "        # converts to grayscale\n",
    "        image = cv2.cvtColor(imageOri, cv2.COLOR_BGR2GRAY)\n",
    "    except:\n",
    "        print(\"Invalid Input! Please select correct file(ex: 'imgSample.jpg')\")\n",
    "    else:\n",
    "        # resize image\n",
    "        image = cv2.resize(image, IMAGE_SIZE)\n",
    "        imageOri = cv2.resize(imageOri, IMAGE_SIZE)\n",
    "        image = cv2.GaussianBlur(image, (3, 3), 0)\n",
    "\n",
    "        # Threshold the image so that your black markings are black on a white background.\n",
    "        ret, thresh_basic = cv2.threshold(image, THRESHOLD_VALUE, MAX_VALUE, cv2.THRESH_BINARY)\n",
    "\n",
    "        # show thresholded image - DEBUGGING\n",
    "        cv2.imshow(\"Thresh basic\", thresh_basic)\n",
    "\n",
    "        #thresh_addapt = cv2.adaptiveThreshold(image, 255, cv2.ADAPTIVE_THRESH_GAUSSIAN_C, cv2.THRESH_BINARY, 115, 1)\n",
    "        # cv2.imshow(\"Thresh Adapt\", thresh_addapt)\n",
    "\n",
    "        # Taking a matrix of size 5 as the kernel\n",
    "        kernel = np.ones((5, 5), np.uint8)\n",
    "\n",
    "        # Morphological operations-Erodes away the boundaries of foreground object\n",
    "        # Use morphology to clean up extraneous markings.\n",
    "        img_erosion = cv2.erode(thresh_basic, kernel, iterations=1)\n",
    "\n",
    "        #####################\n",
    "        # The invert the thresholded image,\n",
    "        # so that the black markings are white on a black background and then find the external contours of those.\n",
    "        ret, thresh_inv = cv2.threshold(img_erosion, INV_THRESHOLD_VALUE, INV_MAX_VALUE, cv2.THRESH_BINARY_INV)\n",
    "        # show inverted threshold image - DEBUGGING\n",
    "        #cv2.imshow(\"INV\", thresh_inv)\n",
    "\n",
    "\n",
    "        #####################\n",
    "        \n",
    "        # Find Canny edges\n",
    "        edged = cv2.Canny(img_erosion, THRESHOLD1, THRESHOLD2)\n",
    "        # show canny edges - DEBUGGING\n",
    "        #cv2.imshow('Canny', edged)\n",
    "        #cv2.waitKey(0)\n",
    "\n",
    "        # Find Contours\n",
    "        # findContours alters the image\n",
    "        contours, hierarchy = cv2.findContours(thresh_inv, cv2.RETR_EXTERNAL, cv2.CHAIN_APPROX_NONE)\n",
    "\n",
    "        # ++++++++++++++++++\n",
    "        # -- Image Stack  --\n",
    "        # ++++++++++++++++++\n",
    "        font = cv2.FONT_HERSHEY_SIMPLEX\n",
    "\n",
    "        imageRz = cv2.resize(image, STACK_IMG_SIZE)\n",
    "        thresh_basicRz = cv2.resize(thresh_basic, STACK_IMG_SIZE)\n",
    "        img_erosionRz = cv2.resize(img_erosion, STACK_IMG_SIZE)\n",
    "        thresh_invRz = cv2.resize(thresh_inv, STACK_IMG_SIZE)\n",
    "        edgedRz = cv2.resize(edged, STACK_IMG_SIZE)\n",
    "\n",
    "        imageRz = cv2.putText(imageRz, 'GrayScale', (5, 15), font, 0.5, WHITE, 1, cv2.LINE_AA)\n",
    "        thresh_basicRz = cv2.putText(thresh_basicRz, 'ThresholdBasic', (5, 15), font,\n",
    "                                     0.5, WHITE, 1,cv2.LINE_AA)\n",
    "        img_erosionRz = cv2.putText(img_erosionRz, 'Morphology-Erosion', (5, 15), font,\n",
    "                                    0.5, WHITE, 1, cv2.LINE_AA)\n",
    "        thresh_invRz = cv2.putText(thresh_invRz, 'Threshold-mode INV', (5, 15), font,\n",
    "                                   0.5, BLACK, 1, cv2.LINE_AA)\n",
    "        edgedRz = cv2.putText(edgedRz, 'Canny Edges', (5, 15), font, 0.5, WHITE, 1, cv2.LINE_AA)\n",
    "        \n",
    "        numpy_horizontal_concat = np.concatenate((imageRz, thresh_basicRz, img_erosionRz,\n",
    "                                                  thresh_invRz, edgedRz), axis=1)\n",
    "\n",
    "        cv2.imshow('Filtering...', numpy_horizontal_concat)\n",
    "\n",
    "        # +++++++\n",
    "\n",
    "        # get total contours\n",
    "        num_of_con = str(len(contours) - 1)\n",
    "        print(\"Number of Contours found = \" + num_of_con)\n",
    "        if len(contours) > 1:\n",
    "            print('======================================')\n",
    "            print('=       MARKINGS DETECTED            =')\n",
    "            print('======================================\\n\\n')\n",
    "\n",
    "        # show original img\n",
    "        cv2.imshow('Original Image', imageOri)\n",
    "        # draw contours on original img\n",
    "        if int(num_of_con) != 0:\n",
    "            for i in range(int(num_of_con)):\n",
    "                highlighted_img = cv2.drawContours(imageOri, contours, i, CON_COLOR, CON_THICKNESS)\n",
    "\n",
    "            highlighted_img = cv2.putText(highlighted_img, 'Approximately {} defect(s) detected'.\n",
    "                                          format(num_of_con), (5, 15),\n",
    "                                          font, 0.5, GREEN, 1, cv2.LINE_AA)\n",
    "        else:\n",
    "            highlighted_img = cv2.putText(imageOri, 'Unable to detect defects!',\n",
    "                                          (5, 15), font, 0.5, RED, 2, cv2.LINE_AA)\n",
    "            \n",
    "        # show markings highlighted img\n",
    "        cv2.imshow('Highlighted Defect', highlighted_img)\n",
    "        # save image containing highlighted defect\n",
    "        cv2.imwrite('Output Images/{}_DEFECTS_HIGHLIGHTED.jpg'.format(file.split('.')[0]), highlighted_img)\n",
    "        cv2.waitKey(0)\n",
    "        cv2.destroyAllWindows()"
   ]
  },
  {
   "cell_type": "markdown",
   "metadata": {},
   "source": [
    "### Getting Pixels Sums to Identify Defects"
   ]
  },
  {
   "cell_type": "code",
   "execution_count": 1,
   "metadata": {},
   "outputs": [
    {
     "data": {
      "text/plain": [
       "2703958.8"
      ]
     },
     "execution_count": 1,
     "metadata": {},
     "output_type": "execute_result"
    }
   ],
   "source": [
    "import numpy as np\n",
    "\n",
    "from matplotlib import pyplot as plt\n",
    "out = plt.imread('C:/Users/Harish/Videos/Images/good.png')\n",
    "c = out.flatten()\n",
    "np.sum(c)"
   ]
  },
  {
   "cell_type": "code",
   "execution_count": 2,
   "metadata": {},
   "outputs": [
    {
     "data": {
      "text/plain": [
       "2702887.0"
      ]
     },
     "execution_count": 2,
     "metadata": {},
     "output_type": "execute_result"
    }
   ],
   "source": [
    "out1 = plt.imread('C:/Users/Harish/Videos/Images/defect1.png')\n",
    "d = out1.flatten()\n",
    "np.sum(d)"
   ]
  },
  {
   "cell_type": "code",
   "execution_count": 3,
   "metadata": {},
   "outputs": [
    {
     "data": {
      "text/plain": [
       "2705193.0"
      ]
     },
     "execution_count": 3,
     "metadata": {},
     "output_type": "execute_result"
    }
   ],
   "source": [
    "out2 = plt.imread('C:/Users/Harish/Videos/Images/defect2.png')\n",
    "e = out2.flatten()\n",
    "np.sum(e)"
   ]
  },
  {
   "cell_type": "markdown",
   "metadata": {},
   "source": [
    "##### From the Output, we can able to say, the Cuts image having more sum value because the white background is taken as 1, similarly for flash it contains less value than other. From these, we can able to classify the defects."
   ]
  }
 ],
 "metadata": {
  "kernelspec": {
   "display_name": "Python 3.9.7 64-bit",
   "language": "python",
   "name": "python3"
  },
  "language_info": {
   "codemirror_mode": {
    "name": "ipython",
    "version": 3
   },
   "file_extension": ".py",
   "mimetype": "text/x-python",
   "name": "python",
   "nbconvert_exporter": "python",
   "pygments_lexer": "ipython3",
   "version": "3.9.7"
  },
  "orig_nbformat": 4,
  "vscode": {
   "interpreter": {
    "hash": "d99ae87a09fc76145475e531a763d2e7bcff713a42f447201a2568c86df8c798"
   }
  }
 },
 "nbformat": 4,
 "nbformat_minor": 2
}
